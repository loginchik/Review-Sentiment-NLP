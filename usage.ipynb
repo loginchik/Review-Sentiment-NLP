{
 "cells": [
  {
   "cell_type": "code",
   "id": "initial_id",
   "metadata": {
    "collapsed": true,
    "ExecuteTime": {
     "end_time": "2024-06-09T21:52:02.699070Z",
     "start_time": "2024-06-09T21:51:59.704426Z"
    }
   },
   "source": [
    "import pandas as pd \n",
    "from sklearn.metrics import classification_report\n",
    "\n",
    "from utils import predictions\n",
    "\n",
    "import warnings\n",
    "warnings.filterwarnings(\"ignore\", category=UserWarning)"
   ],
   "outputs": [],
   "execution_count": 1
  },
  {
   "metadata": {},
   "cell_type": "markdown",
   "source": [
    "## Проверка на тестовой выборке \n",
    "\n",
    "В процессе построения модели выделялась тестовая выборка, размер которой - 10% от всей базы данных. Ни одна из моделей ни разу не видела эти данные и не взаимодействовала с ними, поэтому проверка на тестовой выборке - чистый эксперимент. Загрузим тестовые данные и построим предсказания, чтобы оценить эффективность моделей. "
   ],
   "id": "872ec909fb8da6d3"
  },
  {
   "metadata": {
    "ExecuteTime": {
     "end_time": "2024-06-09T21:52:02.722651Z",
     "start_time": "2024-06-09T21:52:02.699974Z"
    }
   },
   "cell_type": "code",
   "source": [
    "test_x = pd.read_csv('data/test_x.csv')\n",
    "test_y = pd.read_csv('data/test_y.csv')['comment_kind']"
   ],
   "id": "cb225d061d02dfcd",
   "outputs": [],
   "execution_count": 2
  },
  {
   "metadata": {
    "ExecuteTime": {
     "end_time": "2024-06-09T21:52:03.260221Z",
     "start_time": "2024-06-09T21:52:02.723233Z"
    }
   },
   "cell_type": "code",
   "source": [
    "forest_pred = predictions.forest_pipe.predict(test_x)\n",
    "svc_pred = predictions.svc_pipe.predict(test_x)\n",
    "voting_pred = predictions.voting_pipe.predict(test_x)"
   ],
   "id": "2ca94c3e7af31965",
   "outputs": [],
   "execution_count": 3
  },
  {
   "metadata": {
    "ExecuteTime": {
     "end_time": "2024-06-09T21:52:03.282833Z",
     "start_time": "2024-06-09T21:52:03.270048Z"
    }
   },
   "cell_type": "code",
   "source": "print(classification_report(test_y, forest_pred, digits=4))",
   "id": "924500f9dbd69f0f",
   "outputs": [
    {
     "name": "stdout",
     "output_type": "stream",
     "text": [
      "              precision    recall  f1-score   support\n",
      "\n",
      "           0     0.6733    0.3886    0.4928       175\n",
      "           1     0.7794    0.9197    0.8438       411\n",
      "\n",
      "    accuracy                         0.7611       586\n",
      "   macro avg     0.7263    0.6541    0.6683       586\n",
      "weighted avg     0.7477    0.7611    0.7389       586\n",
      "\n"
     ]
    }
   ],
   "execution_count": 4
  },
  {
   "metadata": {},
   "cell_type": "markdown",
   "source": "Точность (precision) модели случайного леса на валидационной выборке достигала 73.88 %, на тестовой она составляет немногим меньше - 72.63%. Это всё ещё высокий показатель, который превышает вероятность угадать методом рандомного тыка. ",
   "id": "5dbc1aafb659f517"
  },
  {
   "metadata": {
    "ExecuteTime": {
     "end_time": "2024-06-09T21:52:03.294655Z",
     "start_time": "2024-06-09T21:52:03.284669Z"
    }
   },
   "cell_type": "code",
   "source": "print(classification_report(test_y, svc_pred, digits=4))",
   "id": "d76ccdc3de16a83d",
   "outputs": [
    {
     "name": "stdout",
     "output_type": "stream",
     "text": [
      "              precision    recall  f1-score   support\n",
      "\n",
      "           0     0.6902    0.7257    0.7075       175\n",
      "           1     0.8806    0.8613    0.8708       411\n",
      "\n",
      "    accuracy                         0.8208       586\n",
      "   macro avg     0.7854    0.7935    0.7892       586\n",
      "weighted avg     0.8237    0.8208    0.8221       586\n",
      "\n"
     ]
    }
   ],
   "execution_count": 5
  },
  {
   "metadata": {},
   "cell_type": "markdown",
   "source": "Точность (precision) модели случайного леса на валидационной выборке достигала 78.98 %, на тестовой она практически та же, отличаются доли процента. Это значит, что модель действительно показывает высокие результаты на совершенно неизвестных ей текстах. ",
   "id": "8d3c07f39bf3a649"
  },
  {
   "metadata": {
    "ExecuteTime": {
     "end_time": "2024-06-09T21:52:03.315485Z",
     "start_time": "2024-06-09T21:52:03.296304Z"
    }
   },
   "cell_type": "code",
   "source": "print(classification_report(test_y, voting_pred, digits=4))",
   "id": "e489e6bb24781a9",
   "outputs": [
    {
     "name": "stdout",
     "output_type": "stream",
     "text": [
      "              precision    recall  f1-score   support\n",
      "\n",
      "           0     0.6902    0.7257    0.7075       175\n",
      "           1     0.8806    0.8613    0.8708       411\n",
      "\n",
      "    accuracy                         0.8208       586\n",
      "   macro avg     0.7854    0.7935    0.7892       586\n",
      "weighted avg     0.8237    0.8208    0.8221       586\n",
      "\n"
     ]
    }
   ],
   "execution_count": 6
  },
  {
   "metadata": {},
   "cell_type": "markdown",
   "source": "Точность (precision) объединённой модели на валидационной выборке достигала 79.36 %, на тестовой она в точности совпадает с показателями ядерного метода опорных векторов (видимо, его значения на тестовой выборке оказывают чуть большее воздействие на усредняемые вероятности, чем результаты модели случайного леса). Это всё ещё высокий показатель, который превышает вероятность угадать методом рандомного тыка. ",
   "id": "8532e78faca41777"
  },
  {
   "metadata": {},
   "cell_type": "markdown",
   "source": [
    "## Применение к собственному тексту\n",
    "\n",
    "Напишем два текста, которые могли бы быть не самыми качественными отзывами на фильмы, и попробуем определить их вид с помощью каждой из моделей. "
   ],
   "id": "e2ebf782b1e2f861"
  },
  {
   "metadata": {
    "ExecuteTime": {
     "end_time": "2024-06-09T21:53:17.141533Z",
     "start_time": "2024-06-09T21:53:17.138739Z"
    }
   },
   "cell_type": "code",
   "source": [
    "# Предполагается, что текст негативный \n",
    "text1 = 'Мультик совершенно не заслуживает внимания. Никогда бы не подумала, что такое могут вообще снимать. Это могло бы быть хорошим произведением искусства, но сценаристу явно забыли заплатить, а режиссёр как будто всё время отсутствовал на площадке. В общем, я бы не советовала это смотреть никому, кроме любителей плохих мультиков и плохих режиссёров (чтобы потешить своё самолюбие).'\n",
    "\n",
    "# Предполагается, что текст позитивный \n",
    "text2 = 'В конце я аж расплакалась от того, насколько это правдоподобная история о любви. Робот похож на человека больше, чем сами люди похожи на людей. Интересная подача истории о том, каким могло бы быть человеческое будущее, если бы его захватили технологии или если бы человечество само дало технологиям полностью себя поработить. Забавно, что роботы не целуются, а обмениваются импульсами, - метафора что надо.'\n",
    "\n",
    "# Предполагается, что текст нейтрально-негативный\n",
    "text3 = 'Мультфильм ни о чём. В целом, можно потратить на него время, если других вариантов нет, но на премию он не претендует. Хорошая картинка, бессмысленный сюжет. Получилось достаточно сыро: явно есть потенциал у этой картины, но сценаристам и аниматорам ещё нужно совершенствоваться.'"
   ],
   "id": "6b6643b3e0d639c4",
   "outputs": [],
   "execution_count": 11
  },
  {
   "metadata": {
    "ExecuteTime": {
     "end_time": "2024-06-09T21:52:03.435520Z",
     "start_time": "2024-06-09T21:52:03.318557Z"
    }
   },
   "cell_type": "code",
   "source": "text1_results = predictions.make_prediction(text1, model='all')",
   "id": "4470dbee26c0676c",
   "outputs": [
    {
     "name": "stdout",
     "output_type": "stream",
     "text": [
      ">> Random Forest Classifier\n",
      "Вероятность негативного или нейтрального: 42.53 %\n",
      "Вероятность позитивного: 57.47 %\n",
      ">> Вердикт: ПОЗИТИВНЫЙ\n",
      "\n",
      ">> SVC\n",
      "Вероятность негативного или нейтрального: 59.22 %\n",
      "Вероятность позитивного: 40.78 %\n",
      ">> Вердикт: НЕГАТИВНЫЙ ИЛИ НЕЙТРАЛЬНЫЙ\n",
      "\n",
      ">> Voting Classifier\n",
      "Вероятность негативного или нейтрального: 59.22 %\n",
      "Вероятность позитивного: 40.78 %\n",
      ">> Вердикт: НЕГАТИВНЫЙ ИЛИ НЕЙТРАЛЬНЫЙ\n",
      "\n"
     ]
    }
   ],
   "execution_count": 8
  },
  {
   "metadata": {},
   "cell_type": "markdown",
   "source": "Модель случайного леса почему-то распознала в негативном тексте что-то позитивное, и вероятность позитивного превысила (пусть и незначительно), в результате чего модель дала неверное предсказание. Ядерный метод опорных векторов и объединённая модель справились корректно. ",
   "id": "cc0a3dfaf11768ac"
  },
  {
   "metadata": {
    "ExecuteTime": {
     "end_time": "2024-06-09T21:52:03.555169Z",
     "start_time": "2024-06-09T21:52:03.440069Z"
    }
   },
   "cell_type": "code",
   "source": "text2_results = predictions.make_prediction(text2, model='all')",
   "id": "808f2f3315d62d5d",
   "outputs": [
    {
     "name": "stdout",
     "output_type": "stream",
     "text": [
      ">> Random Forest Classifier\n",
      "Вероятность негативного или нейтрального: 29.62 %\n",
      "Вероятность позитивного: 70.38 %\n",
      ">> Вердикт: ПОЗИТИВНЫЙ\n",
      "\n",
      ">> SVC\n",
      "Вероятность негативного или нейтрального: 2.08 %\n",
      "Вероятность позитивного: 97.92 %\n",
      ">> Вердикт: ПОЗИТИВНЫЙ\n",
      "\n",
      ">> Voting Classifier\n",
      "Вероятность негативного или нейтрального: 2.08 %\n",
      "Вероятность позитивного: 97.92 %\n",
      ">> Вердикт: ПОЗИТИВНЫЙ\n",
      "\n"
     ]
    }
   ],
   "execution_count": 9
  },
  {
   "metadata": {},
   "cell_type": "markdown",
   "source": "С позитивным текстом все модели справились успешно, однако модель случайного леса сомневается больше других. ",
   "id": "afdfcd2325158279"
  },
  {
   "metadata": {
    "ExecuteTime": {
     "end_time": "2024-06-09T21:53:20.418385Z",
     "start_time": "2024-06-09T21:53:20.323318Z"
    }
   },
   "cell_type": "code",
   "source": "text3_results = predictions.make_prediction(text3, model='all')",
   "id": "f8156d22ce71d50a",
   "outputs": [
    {
     "name": "stdout",
     "output_type": "stream",
     "text": [
      ">> Random Forest Classifier\n",
      "Вероятность негативного или нейтрального: 36.34 %\n",
      "Вероятность позитивного: 63.66 %\n",
      ">> Вердикт: ПОЗИТИВНЫЙ\n",
      "\n",
      ">> SVC\n",
      "Вероятность негативного или нейтрального: 71.41 %\n",
      "Вероятность позитивного: 28.59 %\n",
      ">> Вердикт: НЕГАТИВНЫЙ ИЛИ НЕЙТРАЛЬНЫЙ\n",
      "\n",
      ">> Voting Classifier\n",
      "Вероятность негативного или нейтрального: 71.41 %\n",
      "Вероятность позитивного: 28.59 %\n",
      ">> Вердикт: НЕГАТИВНЫЙ ИЛИ НЕЙТРАЛЬНЫЙ\n",
      "\n"
     ]
    }
   ],
   "execution_count": 12
  },
  {
   "metadata": {},
   "cell_type": "markdown",
   "source": "Случайный лес снова нашёл больше позитива (оптимистичная модель получилась), остальные две модели справились весьма удачно. ",
   "id": "b492899ed6ce7c9f"
  }
 ],
 "metadata": {
  "kernelspec": {
   "display_name": "Python 3",
   "language": "python",
   "name": "python3"
  },
  "language_info": {
   "codemirror_mode": {
    "name": "ipython",
    "version": 2
   },
   "file_extension": ".py",
   "mimetype": "text/x-python",
   "name": "python",
   "nbconvert_exporter": "python",
   "pygments_lexer": "ipython2",
   "version": "2.7.6"
  }
 },
 "nbformat": 4,
 "nbformat_minor": 5
}
